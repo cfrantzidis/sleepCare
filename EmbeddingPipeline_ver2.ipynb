{
 "cells": [
  {
   "cell_type": "code",
   "execution_count": 15,
   "id": "930936ce-4cb4-4d0e-b6d6-5fe5fd06249b",
   "metadata": {},
   "outputs": [],
   "source": [
    "import pandas as pd\n",
    "import numpy as np\n",
    "import string\n",
    "import nltk\n",
    "from nltk.corpus import stopwords\n",
    "from nltk.tokenize import word_tokenize\n",
    "from sklearn.model_selection import train_test_split, GridSearchCV\n",
    "from sklearn.svm import SVC\n",
    "from sklearn.metrics import classification_report, confusion_matrix\n",
    "import matplotlib.pyplot as plt\n",
    "import seaborn as sns\n",
    "from gensim.models import KeyedVectors"
   ]
  },
  {
   "cell_type": "code",
   "execution_count": 28,
   "id": "c0e68d83-ee57-49bb-afa5-3332e6669404",
   "metadata": {},
   "outputs": [],
   "source": [
    "# Load the dataset from a txt file\n",
    "df = pd.read_csv('text03b.txt', sep='\\t')  "
   ]
  },
  {
   "cell_type": "code",
   "execution_count": 29,
   "id": "4da44276-08d0-4b67-963e-1f49801b9e05",
   "metadata": {},
   "outputs": [],
   "source": [
    "# Stopwords and punctuation setup\n",
    "stop_words = set(stopwords.words('english'))\n",
    "\n",
    "# Clean text\n",
    "def clean_text(text):\n",
    "    text = ''.join([char for char in text if char not in string.punctuation])\n",
    "    tokens = word_tokenize(text.lower())\n",
    "    tokens = [word for word in tokens if word not in stop_words]\n",
    "    return tokens\n",
    "\n",
    "df['Processed_Text'] = df['Text'].apply(clean_text)"
   ]
  },
  {
   "cell_type": "code",
   "execution_count": 30,
   "id": "0e1a05ba-36a7-4c79-b250-30364bee4139",
   "metadata": {},
   "outputs": [],
   "source": [
    "# Load GloVe Model\n",
    "def load_glove_model(glove_file):\n",
    "    glove_model = KeyedVectors.load_word2vec_format(glove_file, binary=False, no_header=True)\n",
    "    return glove_model\n",
    "\n",
    "glove_vectors = load_glove_model('glove.6B.50d.txt')  # Make sure you have downloaded this file"
   ]
  },
  {
   "cell_type": "code",
   "execution_count": 31,
   "id": "e5e90969-94c7-4fca-9135-775efc390e8b",
   "metadata": {},
   "outputs": [],
   "source": [
    "# Create document vectors\n",
    "def document_vector(word_list):\n",
    "    # Remove words not in the GloVe model\n",
    "    words = [word for word in word_list if word in glove_vectors.key_to_index]\n",
    "    if len(words) >= 1:\n",
    "        return np.mean(glove_vectors[words], axis=0)\n",
    "    else:\n",
    "        return np.zeros(50)  # Adjust dimensions based on GloVe vectors used\n",
    "\n",
    "df['Text_Vector'] = df['Processed_Text'].apply(document_vector)"
   ]
  },
  {
   "cell_type": "code",
   "execution_count": 32,
   "id": "d14478c2-a601-4c11-892c-cc55010b7ebb",
   "metadata": {},
   "outputs": [],
   "source": [
    "# Remove entries with zero vectors\n",
    "df = df[df['Text_Vector'].apply(lambda x: np.any(x))]\n",
    "\n",
    "# Extract features and labels\n",
    "X = np.array(list(df['Text_Vector']))\n",
    "y = np.array(df['Label'])"
   ]
  },
  {
   "cell_type": "code",
   "execution_count": 35,
   "id": "6f689ed7-6e21-486f-8e30-6b5f5f4a8ca6",
   "metadata": {},
   "outputs": [
    {
     "name": "stdout",
     "output_type": "stream",
     "text": [
      "Fitting 10 folds for each of 11520 candidates, totalling 115200 fits\n",
      "Best parameters: {'C': 3, 'class_weight': 'balanced', 'degree': 2, 'gamma': 1, 'kernel': 'rbf'}\n"
     ]
    }
   ],
   "source": [
    "# Split the data into training and testing\n",
    "X_train, X_test, y_train, y_test = train_test_split(X, y, test_size=0.2, random_state=42)\n",
    "\n",
    "# Define a more extensive parameter grid\n",
    "parameter_grid = {\n",
    "    'C': [0.1, 1, 2,3,4,5,6,7,8,9, 10,20,30,40,50, 100],  # Regularization parameter\n",
    "    'gamma': [0.001, 0.01, 0.1, 1,2,3,4,5,6,7,8,9,10, 'scale', 'auto'],  # Kernel coefficient for 'rbf', 'poly' and 'sigmoid'\n",
    "    'kernel': ['linear', 'rbf', 'poly', 'sigmoid'],  # Different types of kernels\n",
    "    'degree': [2, 3, 4,5,6,7],  # Degree of the polynomial kernel function (if 'poly' kernel is used)\n",
    "    'class_weight': [None, 'balanced']  # Use 'balanced' to adjust weights inversely proportional to class frequencies\n",
    "}\n",
    "\n",
    "svm_model = SVC()\n",
    "\n",
    "# Setup GridSearchCV\n",
    "grid_search = GridSearchCV(svm_model, parameter_grid, cv=10, scoring='accuracy', verbose=2, n_jobs=-1)\n",
    "grid_search.fit(X_train, y_train)\n",
    "\n",
    "print(\"Best parameters:\", grid_search.best_params_)"
   ]
  },
  {
   "cell_type": "code",
   "execution_count": 36,
   "id": "c085ed6f-5b4f-4975-8d76-0d1c99b1596e",
   "metadata": {},
   "outputs": [
    {
     "name": "stdout",
     "output_type": "stream",
     "text": [
      "              precision    recall  f1-score   support\n",
      "\n",
      "           0       0.92      0.92      0.92        13\n",
      "           1       0.90      0.56      0.69        16\n",
      "           2       0.80      0.80      0.80        10\n",
      "           3       0.71      0.65      0.68        23\n",
      "           4       0.71      0.88      0.78        33\n",
      "\n",
      "    accuracy                           0.77        95\n",
      "   macro avg       0.81      0.76      0.78        95\n",
      "weighted avg       0.78      0.77      0.76        95\n",
      "\n"
     ]
    }
   ],
   "source": [
    "# Train a new SVM model on the entire training set using the best parameters\n",
    "best_svm = SVC(**grid_search.best_params_)\n",
    "best_svm.fit(X_train, y_train)\n",
    "\n",
    "# Evaluate the model on the test set\n",
    "y_pred = best_svm.predict(X_test)\n",
    "print(classification_report(y_test, y_pred))"
   ]
  },
  {
   "cell_type": "code",
   "execution_count": 37,
   "id": "dd628951-a725-48f7-81e1-c612fbd8008d",
   "metadata": {},
   "outputs": [
    {
     "data": {
      "image/png": "[encoded data removed]",
      "text/plain": [
       "<Figure size 640x480 with 2 Axes>"
      ]
     },
     "metadata": {},
     "output_type": "display_data"
    }
   ],
   "source": [
    "# Plotting the confusion matrix\n",
    "cm = confusion_matrix(y_test, y_pred)\n",
    "sns.heatmap(cm, annot=True, fmt=\"d\")\n",
    "plt.title('Confusion Matrix')\n",
    "plt.xlabel('Predicted Labels')\n",
    "plt.ylabel('True Labels')\n",
    "plt.show()"
   ]
  },
  {
   "cell_type": "code",
   "execution_count": null,
   "id": "22ffe528-d072-429f-a30e-7a348eaaa099",
   "metadata": {},
   "outputs": [],
   "source": []
  }
 ],
 "metadata": {
  "kernelspec": {
   "display_name": "Python 3 (ipykernel)",
   "language": "python",
   "name": "python3"
  },
  "language_info": {
   "codemirror_mode": {
    "name": "ipython",
    "version": 3
   },
   "file_extension": ".py",
   "mimetype": "text/x-python",
   "name": "python",
   "nbconvert_exporter": "python",
   "pygments_lexer": "ipython3",
   "version": "3.12.8"
  }
 },
 "nbformat": 4,
 "nbformat_minor": 5
}
