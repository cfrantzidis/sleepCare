{
 "cells": [
  {
   "cell_type": "code",
   "execution_count": 3,
   "id": "2238c496-2c43-492e-afc6-fa6f8ec37e59",
   "metadata": {},
   "outputs": [
    {
     "name": "stderr",
     "output_type": "stream",
     "text": [
      "[nltk_data] Downloading package punkt to\n",
      "[nltk_data]     C:\\Users\\chris\\AppData\\Roaming\\nltk_data...\n",
      "[nltk_data]   Unzipping tokenizers\\punkt.zip.\n"
     ]
    },
    {
     "name": "stdout",
     "output_type": "stream",
     "text": [
      "                                                Text  Label\n",
      "0  starting routine morning jogs Emily found slee...      0\n",
      "1  Implementing bedtime ritual includes reading m...      0\n",
      "2  Sarah 's decision cut late-night snacks focus ...      0\n",
      "3  John noticed marked improvement sleep began pr...      0\n",
      "4  Regular cycling boosted Laura 's cardiovascula...      0\n"
     ]
    },
    {
     "name": "stderr",
     "output_type": "stream",
     "text": [
      "[nltk_data] Downloading package stopwords to\n",
      "[nltk_data]     C:\\Users\\chris\\AppData\\Roaming\\nltk_data...\n",
      "[nltk_data]   Package stopwords is already up-to-date!\n"
     ]
    }
   ],
   "source": [
    "import pandas as pd\n",
    "import nltk\n",
    "import string\n",
    "from nltk.corpus import stopwords\n",
    "from nltk.tokenize import word_tokenize\n",
    "\n",
    "# Make sure you have the required NLTK packages\n",
    "nltk.download('punkt')\n",
    "nltk.download('stopwords')\n",
    "\n",
    "# Set of English stopwords\n",
    "stop_words = set(stopwords.words('english'))\n",
    "\n",
    "# Include punctuation in the set of characters to be removed\n",
    "stop_words.update(string.punctuation)\n",
    "\n",
    "# Load the data\n",
    "df = pd.read_csv('text01.txt', sep='\\t')\n",
    "\n",
    "# Function to remove stopwords and punctuation\n",
    "def remove_stopwords_and_punctuation(text):\n",
    "    word_tokens = word_tokenize(text)\n",
    "    filtered_sentence = [word for word in word_tokens if not word.lower() in stop_words]\n",
    "    return ' '.join(filtered_sentence)\n",
    "\n",
    "# Apply the function to remove stopwords and punctuation\n",
    "df['Text'] = df['Text'].apply(remove_stopwords_and_punctuation)\n",
    "\n",
    "# Display the dataframe\n",
    "print(df.head())"
   ]
  },
  {
   "cell_type": "code",
   "execution_count": 4,
   "id": "2418b03b-689f-4622-82a5-2934d3995e0c",
   "metadata": {},
   "outputs": [
    {
     "name": "stdout",
     "output_type": "stream",
     "text": [
      "                                                Text  Label\n",
      "0  starting routine morning jogs Emily found slee...      0\n",
      "1  Implementing bedtime ritual includes reading m...      0\n",
      "2  Sarah 's decision cut late-night snacks focus ...      0\n",
      "3  John noticed marked improvement sleep began pr...      0\n",
      "4  Regular cycling boosted Laura 's cardiovascula...      0\n",
      "5  Switching diet rich fruits vegetables lean pro...      0\n",
      "6  resolving workplace conflicts Anna found anxie...      0\n",
      "7  Regular weekend hikes became way Tom stay acti...      0\n",
      "8  Incorporating strength training routine helped...      0\n",
      "9  maintaining consistent sleep schedule even wee...      0\n"
     ]
    }
   ],
   "source": [
    "print(df.head(10))"
   ]
  },
  {
   "cell_type": "code",
   "execution_count": 12,
   "id": "73c0a788-e047-471f-b149-23bd30b2e5ca",
   "metadata": {},
   "outputs": [
    {
     "name": "stdout",
     "output_type": "stream",
     "text": [
      "Accuracy: 0.929\n"
     ]
    }
   ],
   "source": [
    "from sklearn.model_selection import train_test_split\n",
    "from sklearn.feature_extraction.text import CountVectorizer\n",
    "from sklearn.naive_bayes import MultinomialNB\n",
    "from sklearn.metrics import accuracy_score, confusion_matrix\n",
    "import matplotlib.pyplot as plt\n",
    "import seaborn as sns\n",
    "\n",
    "# Split the dataset into training and testing sets\n",
    "X_train, X_test, y_train, y_test = train_test_split(df['Text'], df['Label'], test_size=0.20, random_state=42, shuffle = True)\n",
    "\n",
    "# Convert text data into numerical data using CountVectorizer\n",
    "vectorizer = CountVectorizer()\n",
    "X_train_counts = vectorizer.fit_transform(X_train)\n",
    "X_test_counts = vectorizer.transform(X_test)\n",
    "\n",
    "# Train a Multinomial Naive Bayes classifier\n",
    "clf = MultinomialNB()\n",
    "clf.fit(X_train_counts, y_train)\n",
    "\n",
    "# Predict the labels for the test set\n",
    "y_pred = clf.predict(X_test_counts)\n",
    "\n",
    "# Calculate and print the accuracy of the model on the test set\n",
    "accuracy = accuracy_score(y_test, y_pred)\n",
    "print(f'Accuracy: {accuracy:.3f}')"
   ]
  },
  {
   "cell_type": "code",
   "execution_count": 13,
   "id": "8d3f482e-3914-4501-bc2a-827a261f92bf",
   "metadata": {},
   "outputs": [
    {
     "data": {
      "image/png": "[encoded data removed]",
      "text/plain": [
       "<Figure size 640x480 with 2 Axes>"
      ]
     },
     "metadata": {},
     "output_type": "display_data"
    }
   ],
   "source": [
    "# Compute and plot the confusion matrix\n",
    "cm = confusion_matrix(y_test, y_pred)\n",
    "sns.heatmap(cm, annot=True, fmt='d', cmap='Blues')\n",
    "plt.xlabel('Predicted')\n",
    "plt.ylabel('True')\n",
    "plt.title('Confusion Matrix')\n",
    "plt.show()"
   ]
  },
  {
   "cell_type": "code",
   "execution_count": null,
   "id": "d2b6f768-e32a-4dd1-a4aa-e416c690e3e5",
   "metadata": {},
   "outputs": [],
   "source": []
  }
 ],
 "metadata": {
  "kernelspec": {
   "display_name": "Python 3 (ipykernel)",
   "language": "python",
   "name": "python3"
  },
  "language_info": {
   "codemirror_mode": {
    "name": "ipython",
    "version": 3
   },
   "file_extension": ".py",
   "mimetype": "text/x-python",
   "name": "python",
   "nbconvert_exporter": "python",
   "pygments_lexer": "ipython3",
   "version": "3.12.8"
  }
 },
 "nbformat": 4,
 "nbformat_minor": 5
}
