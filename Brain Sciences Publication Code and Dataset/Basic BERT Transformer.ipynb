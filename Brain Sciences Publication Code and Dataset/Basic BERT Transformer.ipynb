{
 "cells": [
  {
   "cell_type": "code",
   "execution_count": 2,
   "metadata": {},
   "outputs": [
    {
     "name": "stderr",
     "output_type": "stream",
     "text": [
      "C:\\Users\\chris\\anaconda3\\lib\\site-packages\\scipy\\__init__.py:146: UserWarning: A NumPy version >=1.16.5 and <1.23.0 is required for this version of SciPy (detected version 1.23.5\n",
      "  warnings.warn(f\"A NumPy version >={np_minversion} and <{np_maxversion}\"\n"
     ]
    },
    {
     "name": "stdout",
     "output_type": "stream",
     "text": [
      "Successful Installation\n"
     ]
    }
   ],
   "source": [
    "import pandas as pd\n",
    "import numpy as np\n",
    "import torch\n",
    "from transformers import BertTokenizer, BertModel\n",
    "from sklearn.svm import SVC\n",
    "from sklearn.model_selection import train_test_split, GridSearchCV\n",
    "from sklearn.metrics import classification_report, confusion_matrix\n",
    "import seaborn as sns\n",
    "import matplotlib.pyplot as plt\n",
    "import nltk\n",
    "import string\n",
    "from nltk.corpus import stopwords\n",
    "from nltk.tokenize import word_tokenize\n",
    "print(\"Successful Installation\")"
   ]
  },
  {
   "cell_type": "code",
   "execution_count": 3,
   "metadata": {},
   "outputs": [
    {
     "name": "stderr",
     "output_type": "stream",
     "text": [
      "[nltk_data] Downloading package punkt to C:\\Users\\chris/nltk_data...\n",
      "[nltk_data]   Package punkt is already up-to-date!\n",
      "[nltk_data] Downloading package stopwords to\n",
      "[nltk_data]     C:\\Users\\chris/nltk_data...\n",
      "[nltk_data]   Unzipping corpora\\stopwords.zip.\n"
     ]
    }
   ],
   "source": [
    "# Download NLTK resources\n",
    "nltk.download('punkt')\n",
    "nltk.download('stopwords')\n",
    "stop_words = set(stopwords.words('english'))"
   ]
  },
  {
   "cell_type": "code",
   "execution_count": 5,
   "metadata": {},
   "outputs": [],
   "source": [
    "# ========== STEP 1: Load and Preprocess Your Dataset ==========\n",
    "# Load your dataset\n",
    "df = pd.read_csv('text03b.txt', sep='\\t')  \n",
    "df = df[['Text', 'Label']]  # Ensure you have these columns\n",
    "\n",
    "# Optional: Basic preprocessing (you can skip this if you want raw BERT)\n",
    "def preprocess_text(text):\n",
    "    text = text.lower()\n",
    "    text = ''.join([c for c in text if c not in string.punctuation])\n",
    "    tokens = word_tokenize(text)\n",
    "    return ' '.join([w for w in tokens if w not in stop_words])\n",
    "\n",
    "df['Processed_Text'] = df['Text'].apply(preprocess_text)"
   ]
  },
  {
   "cell_type": "code",
   "execution_count": 7,
   "metadata": {},
   "outputs": [
    {
     "name": "stderr",
     "output_type": "stream",
     "text": [
      "C:\\Users\\chris\\anaconda3\\lib\\site-packages\\huggingface_hub\\file_download.py:1150: FutureWarning: `resume_download` is deprecated and will be removed in version 1.0.0. Downloads always resume when possible. If you want to force a new download, use `force_download=True`.\n",
      "  warnings.warn(\n",
      "Some weights of the model checkpoint at bert-base-uncased were not used when initializing BertModel: ['cls.predictions.transform.dense.weight', 'cls.predictions.transform.LayerNorm.bias', 'cls.predictions.transform.dense.bias', 'cls.predictions.transform.LayerNorm.weight', 'cls.seq_relationship.bias', 'cls.seq_relationship.weight', 'cls.predictions.bias']\n",
      "- This IS expected if you are initializing BertModel from the checkpoint of a model trained on another task or with another architecture (e.g. initializing a BertForSequenceClassification model from a BertForPreTraining model).\n",
      "- This IS NOT expected if you are initializing BertModel from the checkpoint of a model that you expect to be exactly identical (initializing a BertForSequenceClassification model from a BertForSequenceClassification model).\n"
     ]
    },
    {
     "name": "stdout",
     "output_type": "stream",
     "text": [
      "Successful Installation\n"
     ]
    }
   ],
   "source": [
    "# ========== STEP 2: Load BERT Tokenizer and Model ==========\n",
    "tokenizer = BertTokenizer.from_pretrained('bert-base-uncased')\n",
    "bert_model = BertModel.from_pretrained('bert-base-uncased')\n",
    "bert_model.eval()  # Set model to inference mode\n",
    "print(\"Successful Installation\")"
   ]
  },
  {
   "cell_type": "code",
   "execution_count": 9,
   "metadata": {},
   "outputs": [],
   "source": [
    "# ========== STEP 3: Convert Text to BERT Embeddings ==========\n",
    "def get_bert_embedding(text):\n",
    "    inputs = tokenizer(text, return_tensors='pt', truncation=True, max_length=512, padding=True)\n",
    "    with torch.no_grad():\n",
    "        outputs = bert_model(**inputs)\n",
    "    # Use the [CLS] token embedding\n",
    "    cls_embedding = outputs.last_hidden_state[:, 0, :].squeeze().numpy()\n",
    "    return cls_embedding"
   ]
  },
  {
   "cell_type": "code",
   "execution_count": 10,
   "metadata": {},
   "outputs": [],
   "source": [
    "# Generate embeddings\n",
    "df['BERT_Vector'] = df['Processed_Text'].apply(get_bert_embedding)\n",
    "\n",
    "# ========== STEP 4: Prepare Data ==========\n",
    "X = np.vstack(df['BERT_Vector'].values)\n",
    "y = df['Label'].values\n",
    "\n",
    "# Train-test split\n",
    "X_train, X_test, y_train, y_test = train_test_split(X, y, test_size=0.2, random_state=42)"
   ]
  },
  {
   "cell_type": "code",
   "execution_count": 11,
   "metadata": {},
   "outputs": [],
   "source": [
    "# ========== STEP 5: Train SVM Classifier ==========\n",
    "svm = SVC(kernel='linear', probability=True)\n",
    "svm.fit(X_train, y_train)\n",
    "\n",
    "# Predict on test set\n",
    "y_pred = svm.predict(X_test)"
   ]
  },
  {
   "cell_type": "code",
   "execution_count": 12,
   "metadata": {},
   "outputs": [
    {
     "name": "stdout",
     "output_type": "stream",
     "text": [
      "Classification Report:\n",
      "               precision    recall  f1-score   support\n",
      "\n",
      "           0       1.00      0.77      0.87        13\n",
      "           1       0.70      0.44      0.54        16\n",
      "           2       0.54      0.70      0.61        10\n",
      "           3       0.59      0.70      0.64        23\n",
      "           4       0.83      0.88      0.85        33\n",
      "\n",
      "    accuracy                           0.73        95\n",
      "   macro avg       0.73      0.70      0.70        95\n",
      "weighted avg       0.74      0.73      0.72        95\n",
      "\n"
     ]
    },
    {
     "data": {
      "image/png": "[encoded data removed]",
      "text/plain": [
       "<Figure size 432x288 with 2 Axes>"
      ]
     },
     "metadata": {
      "needs_background": "light"
     },
     "output_type": "display_data"
    }
   ],
   "source": [
    "# ========== STEP 6: Evaluation ==========\n",
    "print(\"Classification Report:\\n\", classification_report(y_test, y_pred))\n",
    "cm = confusion_matrix(y_test, y_pred)\n",
    "sns.heatmap(cm, annot=True, fmt='d', cmap='Blues')\n",
    "plt.xlabel('Predicted')\n",
    "plt.ylabel('True')\n",
    "plt.title('Confusion Matrix')\n",
    "plt.show()"
   ]
  },
  {
   "cell_type": "code",
   "execution_count": 13,
   "metadata": {},
   "outputs": [],
   "source": [
    "# ========== STEP 7: Predict on New Text ==========\n",
    "new_texts = [\"I slept like a baby\", \"I awake and feel suffocated.\"]\n",
    "new_texts_processed = [preprocess_text(text) for text in new_texts]\n",
    "new_vectors = np.vstack([get_bert_embedding(text) for text in new_texts_processed])\n",
    "new_predictions = svm.predict(new_vectors)"
   ]
  },
  {
   "cell_type": "code",
   "execution_count": 14,
   "metadata": {},
   "outputs": [
    {
     "name": "stdout",
     "output_type": "stream",
     "text": [
      "Text: \"I slept like a baby\"\n",
      "Predicted Label: 4\n",
      "\n",
      "Text: \"I awake and feel suffocated.\"\n",
      "Predicted Label: 3\n",
      "\n"
     ]
    }
   ],
   "source": [
    "# Display Results\n",
    "for text, pred in zip(new_texts, new_predictions):\n",
    "    print(f\"Text: \\\"{text}\\\"\\nPredicted Label: {pred}\\n\")"
   ]
  },
  {
   "cell_type": "code",
   "execution_count": 17,
   "metadata": {},
   "outputs": [
    {
     "name": "stdout",
     "output_type": "stream",
     "text": [
      "Fitting 10 folds for each of 11520 candidates, totalling 115200 fits\n",
      "Best Parameters from GridSearchCV:\n",
      " {'C': 4, 'class_weight': 'balanced', 'degree': 2, 'gamma': 0.01, 'kernel': 'rbf'}\n",
      "\n",
      "Classification Report for model2:\n",
      "               precision    recall  f1-score   support\n",
      "\n",
      "           0       0.85      0.85      0.85        13\n",
      "           1       0.70      0.44      0.54        16\n",
      "           2       0.50      0.70      0.58        10\n",
      "           3       0.62      0.70      0.65        23\n",
      "           4       0.84      0.82      0.83        33\n",
      "\n",
      "    accuracy                           0.72        95\n",
      "   macro avg       0.70      0.70      0.69        95\n",
      "weighted avg       0.73      0.72      0.71        95\n",
      "\n"
     ]
    },
    {
     "data": {
      "image/png": "[encoded data removed]",
      "text/plain": [
       "<Figure size 432x288 with 2 Axes>"
      ]
     },
     "metadata": {
      "needs_background": "light"
     },
     "output_type": "display_data"
    },
    {
     "name": "stdout",
     "output_type": "stream",
     "text": [
      "[model2] Text: \"I slept like a baby\"\n",
      "Predicted Label: 4\n",
      "\n",
      "[model2] Text: \"I awake and feel suffocated.\"\n",
      "Predicted Label: 1\n",
      "\n"
     ]
    }
   ],
   "source": [
    "from sklearn.model_selection import GridSearchCV\n",
    "from sklearn.svm import SVC\n",
    "\n",
    "# ========== Reuse the X_train, X_test, y_train, y_test from before ==========\n",
    "\n",
    "# Define parameter grid for SVM\n",
    "param_grid = {\n",
    "    'C': [0.1, 1, 2,3,4,5,6,7,8,9, 10,20,30,40,50, 100],  # Regularization parameter\n",
    "    'gamma': [0.001, 0.01, 0.1, 1,2,3,4,5,6,7,8,9,10, 'scale', 'auto'],  # Kernel coefficient for 'rbf', 'poly' and 'sigmoid'\n",
    "    'kernel': ['linear', 'rbf', 'poly', 'sigmoid'],  # Different types of kernels\n",
    "    'degree': [2, 3, 4,5,6,7],  # Degree of the polynomial kernel function (if 'poly' kernel is used)\n",
    "    'class_weight': [None, 'balanced']  # Use 'balanced' to adjust weights inversely proportional to class frequencies\n",
    "}\n",
    "\n",
    "# Create the base SVM model\n",
    "base_svm = SVC(probability=True)\n",
    "\n",
    "# Create GridSearchCV object\n",
    "grid_search = GridSearchCV(base_svm, param_grid, cv=10, scoring='accuracy', verbose=2, n_jobs=-1)\n",
    "\n",
    "# Fit GridSearchCV on the training data\n",
    "grid_search.fit(X_train, y_train)\n",
    "\n",
    "# Best estimator after grid search\n",
    "model2 = grid_search.best_estimator_\n",
    "\n",
    "# ========== Evaluate model2 ==========\n",
    "y_pred2 = model2.predict(X_test)\n",
    "\n",
    "print(\"Best Parameters from GridSearchCV:\\n\", grid_search.best_params_)\n",
    "print(\"\\nClassification Report for model2:\\n\", classification_report(y_test, y_pred2))\n",
    "\n",
    "# Confusion matrix\n",
    "cm2 = confusion_matrix(y_test, y_pred2)\n",
    "sns.heatmap(cm2, annot=True, fmt='d', cmap='Blues')\n",
    "plt.title('Confusion Matrix (model2 - GridSearchCV)')\n",
    "plt.xlabel('Predicted')\n",
    "plt.ylabel('True')\n",
    "plt.show()\n",
    "\n",
    "# ========== Predict on New Data ==========\n",
    "new_predictions2 = model2.predict(new_vectors)\n",
    "\n",
    "for text, pred in zip(new_texts, new_predictions2):\n",
    "    print(f\"[model2] Text: \\\"{text}\\\"\\nPredicted Label: {pred}\\n\")\n"
   ]
  },
  {
   "cell_type": "code",
   "execution_count": 19,
   "metadata": {},
   "outputs": [
    {
     "name": "stdout",
     "output_type": "stream",
     "text": [
      "Fitting 10 folds for each of 6600 candidates, totalling 66000 fits\n",
      "Best Parameters from GridSearchCV:\n",
      " {'bootstrap': False, 'class_weight': 'balanced', 'max_depth': 12, 'min_samples_leaf': 3, 'min_samples_split': 10, 'n_estimators': 45}\n",
      "\n",
      "Classification Report for model2 (Random Forest):\n",
      "               precision    recall  f1-score   support\n",
      "\n",
      "           0       1.00      0.85      0.92        13\n",
      "           1       0.42      0.31      0.36        16\n",
      "           2       0.54      0.70      0.61        10\n",
      "           3       0.50      0.43      0.47        23\n",
      "           4       0.77      0.91      0.83        33\n",
      "\n",
      "    accuracy                           0.66        95\n",
      "   macro avg       0.64      0.64      0.64        95\n",
      "weighted avg       0.65      0.66      0.65        95\n",
      "\n"
     ]
    },
    {
     "data": {
      "image/png": "[encoded data removed]",
      "text/plain": [
       "<Figure size 432x288 with 2 Axes>"
      ]
     },
     "metadata": {
      "needs_background": "light"
     },
     "output_type": "display_data"
    },
    {
     "name": "stdout",
     "output_type": "stream",
     "text": [
      "[Random Forest] Text: \"I slept like a baby\"\n",
      "Predicted Label: 4\n",
      "\n",
      "[Random Forest] Text: \"I awake and feel suffocated.\"\n",
      "Predicted Label: 1\n",
      "\n"
     ]
    }
   ],
   "source": [
    "from sklearn.ensemble import RandomForestClassifier\n",
    "\n",
    "# ========== Reuse X_train, X_test, y_train, y_test from before ==========\n",
    "\n",
    "# Define parameter grid for Random Forest\n",
    "param_grid = {\n",
    "    'n_estimators': [5,10,15,20,25,30,36,40,45,50],             # Number of trees in the forest\n",
    "    'max_depth': [None, 2,4,6,8,10,12,14,16,18,20],         # Max depth of the tree\n",
    "    'min_samples_split': [2, 5, 10],                 # Min samples to split an internal node\n",
    "    'min_samples_leaf': [1, 2, 3,4,5],                   # Min samples at a leaf node\n",
    "    'bootstrap': [True, False],                      # Whether bootstrap samples are used\n",
    "    'class_weight': [None, 'balanced']               # Adjust weights for imbalanced classes\n",
    "}\n",
    "\n",
    "# Create the base Random Forest model\n",
    "base_rf = RandomForestClassifier(random_state=42)\n",
    "\n",
    "# Create GridSearchCV object\n",
    "grid_search = GridSearchCV(base_rf, param_grid, cv=10, scoring='accuracy', verbose=2, n_jobs=-1)\n",
    "\n",
    "# Fit GridSearchCV on the training data\n",
    "grid_search.fit(X_train, y_train)\n",
    "\n",
    "# Best estimator after grid search\n",
    "model2 = grid_search.best_estimator_\n",
    "\n",
    "# ========== Evaluate model2 ==========\n",
    "y_pred2 = model2.predict(X_test)\n",
    "\n",
    "print(\"Best Parameters from GridSearchCV:\\n\", grid_search.best_params_)\n",
    "print(\"\\nClassification Report for model2 (Random Forest):\\n\", classification_report(y_test, y_pred2))\n",
    "\n",
    "# Confusion matrix\n",
    "cm2 = confusion_matrix(y_test, y_pred2)\n",
    "sns.heatmap(cm2, annot=True, fmt='d', cmap='Blues')\n",
    "plt.title('Confusion Matrix (Random Forest)')\n",
    "plt.xlabel('Predicted')\n",
    "plt.ylabel('True')\n",
    "plt.show()\n",
    "\n",
    "# ========== Predict on New Data ==========\n",
    "new_predictions2 = model2.predict(new_vectors)\n",
    "\n",
    "for text, pred in zip(new_texts, new_predictions2):\n",
    "    print(f\"[Random Forest] Text: \\\"{text}\\\"\\nPredicted Label: {pred}\\n\")\n"
   ]
  },
  {
   "cell_type": "code",
   "execution_count": null,
   "metadata": {},
   "outputs": [],
   "source": []
  }
 ],
 "metadata": {
  "kernelspec": {
   "display_name": "Python 3",
   "language": "python",
   "name": "python3"
  },
  "language_info": {
   "codemirror_mode": {
    "name": "ipython",
    "version": 3
   },
   "file_extension": ".py",
   "mimetype": "text/x-python",
   "name": "python",
   "nbconvert_exporter": "python",
   "pygments_lexer": "ipython3",
   "version": "3.8.5"
  }
 },
 "nbformat": 4,
 "nbformat_minor": 4
}
