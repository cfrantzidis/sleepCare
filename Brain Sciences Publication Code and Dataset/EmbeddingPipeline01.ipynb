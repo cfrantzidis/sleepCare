{
 "cells": [
  {
   "cell_type": "code",
   "execution_count": 1,
   "id": "43a8f998-a780-417d-a890-a219836f8f4d",
   "metadata": {},
   "outputs": [],
   "source": [
    "import pandas as pd\n",
    "\n",
    "# Load the dataset from a txt file\n",
    "df = pd.read_csv('text03.txt', sep='\\t')  "
   ]
  },
  {
   "cell_type": "code",
   "execution_count": 2,
   "id": "d2d423e2-a92a-4294-8651-33fb6876de09",
   "metadata": {},
   "outputs": [
    {
     "name": "stdout",
     "output_type": "stream",
     "text": [
      "                                                Text  Label  \\\n",
      "0  Feeling unsupported by her team at work, she o...      0   \n",
      "1  The joy of his son's return home after years a...      0   \n",
      "2  Her close friend’s betrayal felt like a heavy ...      0   \n",
      "3  Anticipation of the next day’s difficult conve...      0   \n",
      "4  Financial disagreements with her spouse brough...      0   \n",
      "\n",
      "                                      Processed_Text  \n",
      "0  [feeling, unsupported, team, work, often, lay,...  \n",
      "1  [joy, sons, return, home, years, abroad, disru...  \n",
      "2  [close, friend, ’, betrayal, felt, like, heavy...  \n",
      "3  [anticipation, next, day, ’, difficult, conver...  \n",
      "4  [financial, disagreements, spouse, brought, la...  \n"
     ]
    }
   ],
   "source": [
    "import string\n",
    "from nltk.corpus import stopwords\n",
    "from nltk.tokenize import word_tokenize\n",
    "\n",
    "stop_words = set(stopwords.words('english'))\n",
    "\n",
    "def clean_text(text):\n",
    "    # Tokenize text and remove puncutation\n",
    "    text = ''.join([char for char in text if char not in string.punctuation])\n",
    "    tokens = word_tokenize(text.lower())\n",
    "    # Remove stopwords\n",
    "    tokens = [word for word in tokens if word not in stop_words]\n",
    "    return tokens\n",
    "\n",
    "# Apply the cleaning function to the 'Text' column\n",
    "df['Processed_Text'] = df['Text'].apply(clean_text)\n",
    "print(df.head(5))\n",
    "\n"
   ]
  },
  {
   "cell_type": "code",
   "execution_count": null,
   "id": "67b71e12-2ce4-40da-b8f2-4a66fa77a7af",
   "metadata": {},
   "outputs": [],
   "source": []
  },
  {
   "cell_type": "code",
   "execution_count": 3,
   "id": "d8302a83-fd47-47ad-95a8-9cd23c9aa40c",
   "metadata": {},
   "outputs": [],
   "source": [
    "from gensim.models import KeyedVectors\n",
    "\n",
    "# Path to the GloVe file\n",
    "glove_file = 'glove.6B.50d.txt'\n",
    "\n",
    "# Load the GloVe model\n",
    "def load_glove_model(glove_file):\n",
    "    # Load the model as a Word2Vec format\n",
    "    glove_model = KeyedVectors.load_word2vec_format(glove_file, binary=False, no_header=True)\n",
    "    return glove_model\n",
    "\n",
    "glove_vectors = load_glove_model(glove_file)\n"
   ]
  },
  {
   "cell_type": "code",
   "execution_count": 4,
   "id": "1e4577d7-6906-4973-90b0-ebc93352b2d0",
   "metadata": {},
   "outputs": [],
   "source": [
    "import numpy as np\n",
    "\n",
    "def document_vector(doc):\n",
    "    # Remove out-of-vocabulary words\n",
    "    words = [word for word in doc if word in glove_vectors.key_to_index]\n",
    "    if len(words) >= 1:\n",
    "        return np.mean(glove_vectors[words], axis=0)\n",
    "    else:\n",
    "        return []\n",
    "\n",
    "# Apply the function to each document\n",
    "df['Text_Vector'] = df['Text'].apply(document_vector)\n"
   ]
  },
  {
   "cell_type": "code",
   "execution_count": 5,
   "id": "dce3312e-92eb-452c-9576-5e5c9d02e952",
   "metadata": {},
   "outputs": [],
   "source": [
    "# Filter out empty entries\n",
    "df = df[df['Text_Vector'].map(len) > 0]\n",
    "\n",
    "# Extract features and labels\n",
    "X = np.array(list(df['Text_Vector']))\n",
    "y = np.array(df['Label'])"
   ]
  },
  {
   "cell_type": "code",
   "execution_count": 6,
   "id": "458e7a7b-c1a3-499f-a8ce-d93e6d820d71",
   "metadata": {},
   "outputs": [
    {
     "name": "stdout",
     "output_type": "stream",
     "text": [
      "              precision    recall  f1-score   support\n",
      "\n",
      "           0       0.00      0.00      0.00        13\n",
      "           1       0.00      0.00      0.00        16\n",
      "           2       0.00      0.00      0.00         9\n",
      "           3       0.00      0.00      0.00        21\n",
      "           4       0.38      1.00      0.55        36\n",
      "\n",
      "    accuracy                           0.38        95\n",
      "   macro avg       0.08      0.20      0.11        95\n",
      "weighted avg       0.14      0.38      0.21        95\n",
      "\n"
     ]
    },
    {
     "name": "stderr",
     "output_type": "stream",
     "text": [
      "C:\\Users\\chris\\Documents\\Python Projects\\Sleep Classification\\sleepCare\\Lib\\site-packages\\sklearn\\metrics\\_classification.py:1565: UndefinedMetricWarning: Precision is ill-defined and being set to 0.0 in labels with no predicted samples. Use `zero_division` parameter to control this behavior.\n",
      "  _warn_prf(average, modifier, f\"{metric.capitalize()} is\", len(result))\n",
      "C:\\Users\\chris\\Documents\\Python Projects\\Sleep Classification\\sleepCare\\Lib\\site-packages\\sklearn\\metrics\\_classification.py:1565: UndefinedMetricWarning: Precision is ill-defined and being set to 0.0 in labels with no predicted samples. Use `zero_division` parameter to control this behavior.\n",
      "  _warn_prf(average, modifier, f\"{metric.capitalize()} is\", len(result))\n",
      "C:\\Users\\chris\\Documents\\Python Projects\\Sleep Classification\\sleepCare\\Lib\\site-packages\\sklearn\\metrics\\_classification.py:1565: UndefinedMetricWarning: Precision is ill-defined and being set to 0.0 in labels with no predicted samples. Use `zero_division` parameter to control this behavior.\n",
      "  _warn_prf(average, modifier, f\"{metric.capitalize()} is\", len(result))\n"
     ]
    }
   ],
   "source": [
    "from sklearn.svm import SVC\n",
    "from sklearn.model_selection import train_test_split\n",
    "from sklearn.metrics import classification_report\n",
    "\n",
    "# Split the data\n",
    "X_train, X_test, y_train, y_test = train_test_split(X, y, test_size=0.2, random_state=42)\n",
    "\n",
    "# Initialize and train the SVM\n",
    "svm_classifier = SVC(kernel='linear')  # You can experiment with different kernels\n",
    "svm_classifier.fit(X_train, y_train)\n",
    "\n",
    "# Evaluate the classifier\n",
    "y_pred = svm_classifier.predict(X_test)\n",
    "print(classification_report(y_test, y_pred))"
   ]
  },
  {
   "cell_type": "code",
   "execution_count": null,
   "id": "b39548c2-8962-46d6-914c-dec7dca54ecf",
   "metadata": {},
   "outputs": [],
   "source": [
    "print(X)"
   ]
  },
  {
   "cell_type": "code",
   "execution_count": null,
   "id": "919f87ed-3a47-4cab-9b2d-27066d3b2227",
   "metadata": {},
   "outputs": [],
   "source": []
  }
 ],
 "metadata": {
  "kernelspec": {
   "display_name": "Python 3 (ipykernel)",
   "language": "python",
   "name": "python3"
  },
  "language_info": {
   "codemirror_mode": {
    "name": "ipython",
    "version": 3
   },
   "file_extension": ".py",
   "mimetype": "text/x-python",
   "name": "python",
   "nbconvert_exporter": "python",
   "pygments_lexer": "ipython3",
   "version": "3.12.8"
  }
 },
 "nbformat": 4,
 "nbformat_minor": 5
}
