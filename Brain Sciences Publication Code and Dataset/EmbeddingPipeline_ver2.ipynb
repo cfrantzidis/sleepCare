{
 "cells": [
  {
   "cell_type": "code",
   "execution_count": 3,
   "metadata": {},
   "outputs": [],
   "source": [
    "import pandas as pd\n",
    "import numpy as np\n",
    "import string\n",
    "import nltk\n",
    "from nltk.corpus import stopwords\n",
    "from nltk.tokenize import word_tokenize\n",
    "from sklearn.model_selection import train_test_split, GridSearchCV\n",
    "from sklearn.svm import SVC\n",
    "from sklearn.metrics import classification_report, confusion_matrix\n",
    "import matplotlib.pyplot as plt\n",
    "import seaborn as sns\n",
    "from gensim.models import KeyedVectors"
   ]
  },
  {
   "cell_type": "code",
   "execution_count": 4,
   "metadata": {},
   "outputs": [],
   "source": [
    "# Load the dataset from a txt file\n",
    "df = pd.read_csv('text05.txt', sep='\\t')  "
   ]
  },
  {
   "cell_type": "code",
   "execution_count": 5,
   "metadata": {},
   "outputs": [],
   "source": [
    "# Stopwords and punctuation setup\n",
    "stop_words = set(stopwords.words('english'))\n",
    "\n",
    "# Clean text\n",
    "def clean_text(text):\n",
    "    text = ''.join([char for char in text if char not in string.punctuation])\n",
    "    tokens = word_tokenize(text.lower())\n",
    "    tokens = [word for word in tokens if word not in stop_words]\n",
    "    return tokens\n",
    "\n",
    "df['Processed_Text'] = df['Text'].apply(clean_text)"
   ]
  },
  {
   "cell_type": "code",
   "execution_count": 6,
   "metadata": {},
   "outputs": [],
   "source": [
    "# Load GloVe Model\n",
    "def load_glove_model(glove_file):\n",
    "    glove_model = KeyedVectors.load_word2vec_format(glove_file, binary=False, no_header=True)\n",
    "    return glove_model\n",
    "\n",
    "glove_vectors = load_glove_model('glove.6B.50d.txt')  # Make sure you have downloaded this file"
   ]
  },
  {
   "cell_type": "code",
   "execution_count": 7,
   "metadata": {},
   "outputs": [],
   "source": [
    "# Create document vectors\n",
    "def document_vector(word_list):\n",
    "    # Remove words not in the GloVe model\n",
    "    words = [word for word in word_list if word in glove_vectors.key_to_index]\n",
    "    if len(words) >= 1:\n",
    "        return np.mean(glove_vectors[words], axis=0)\n",
    "    else:\n",
    "        return np.zeros(50)  # Adjust dimensions based on GloVe vectors used\n",
    "\n",
    "df['Text_Vector'] = df['Processed_Text'].apply(document_vector)"
   ]
  },
  {
   "cell_type": "code",
   "execution_count": 8,
   "metadata": {},
   "outputs": [],
   "source": [
    "# Remove entries with zero vectors\n",
    "df = df[df['Text_Vector'].apply(lambda x: np.any(x))]\n",
    "\n",
    "# Extract features and labels\n",
    "X = np.array(list(df['Text_Vector']))\n",
    "y = np.array(df['Label'])"
   ]
  },
  {
   "cell_type": "code",
   "execution_count": 9,
   "metadata": {},
   "outputs": [
    {
     "name": "stdout",
     "output_type": "stream",
     "text": [
      "Fitting 10 folds for each of 11520 candidates, totalling 115200 fits\n",
      "Best parameters: {'C': 3, 'class_weight': None, 'degree': 3, 'gamma': 'scale', 'kernel': 'poly'}\n"
     ]
    }
   ],
   "source": [
    "# Split the data into training and testing\n",
    "X_train, X_test, y_train, y_test = train_test_split(X, y, test_size=0.2, random_state=42)\n",
    "\n",
    "# Define a more extensive parameter grid\n",
    "parameter_grid = {\n",
    "    'C': [0.1, 1, 2,3,4,5,6,7,8,9, 10,20,30,40,50, 100],  # Regularization parameter\n",
    "    'gamma': [0.001, 0.01, 0.1, 1,2,3,4,5,6,7,8,9,10, 'scale', 'auto'],  # Kernel coefficient for 'rbf', 'poly' and 'sigmoid'\n",
    "    'kernel': ['linear', 'rbf', 'poly', 'sigmoid'],  # Different types of kernels\n",
    "    'degree': [2, 3, 4,5,6,7],  # Degree of the polynomial kernel function (if 'poly' kernel is used)\n",
    "    'class_weight': [None, 'balanced']  # Use 'balanced' to adjust weights inversely proportional to class frequencies\n",
    "}\n",
    "\n",
    "svm_model = SVC()\n",
    "\n",
    "# Setup GridSearchCV\n",
    "grid_search = GridSearchCV(svm_model, parameter_grid, cv=10, scoring='accuracy', verbose=2, n_jobs=-1)\n",
    "grid_search.fit(X_train, y_train)\n",
    "\n",
    "print(\"Best parameters:\", grid_search.best_params_)"
   ]
  },
  {
   "cell_type": "code",
   "execution_count": 10,
   "metadata": {},
   "outputs": [
    {
     "name": "stdout",
     "output_type": "stream",
     "text": [
      "              precision    recall  f1-score   support\n",
      "\n",
      "           0       0.88      0.64      0.74        11\n",
      "           1       0.77      0.66      0.71        35\n",
      "           2       0.81      0.76      0.79        17\n",
      "           3       0.42      0.35      0.38        23\n",
      "           4       0.69      0.92      0.79        39\n",
      "\n",
      "    accuracy                           0.70       125\n",
      "   macro avg       0.71      0.67      0.68       125\n",
      "weighted avg       0.70      0.70      0.69       125\n",
      "\n"
     ]
    }
   ],
   "source": [
    "# Train a new SVM model on the entire training set using the best parameters\n",
    "best_svm = SVC(**grid_search.best_params_)\n",
    "best_svm.fit(X_train, y_train)\n",
    "\n",
    "# Evaluate the model on the test set\n",
    "y_pred = best_svm.predict(X_test)\n",
    "print(classification_report(y_test, y_pred))"
   ]
  },
  {
   "cell_type": "code",
   "execution_count": 11,
   "metadata": {},
   "outputs": [
    {
     "data": {
      "image/png": "[encoded data removed]",
      "text/plain": [
       "<Figure size 432x288 with 2 Axes>"
      ]
     },
     "metadata": {
      "needs_background": "light"
     },
     "output_type": "display_data"
    }
   ],
   "source": [
    "# Plotting the confusion matrix\n",
    "cm = confusion_matrix(y_test, y_pred)\n",
    "sns.heatmap(cm, annot=True, fmt=\"d\")\n",
    "plt.title('Confusion Matrix')\n",
    "plt.xlabel('Predicted Labels')\n",
    "plt.ylabel('True Labels')\n",
    "plt.show()"
   ]
  },
  {
   "cell_type": "code",
   "execution_count": 12,
   "metadata": {},
   "outputs": [
    {
     "name": "stdout",
     "output_type": "stream",
     "text": [
      "End of script\n"
     ]
    }
   ],
   "source": [
    "print(\"End of script\")"
   ]
  },
  {
   "cell_type": "code",
   "execution_count": null,
   "metadata": {},
   "outputs": [],
   "source": []
  }
 ],
 "metadata": {
  "kernelspec": {
   "display_name": "Python 3",
   "language": "python",
   "name": "python3"
  },
  "language_info": {
   "codemirror_mode": {
    "name": "ipython",
    "version": 3
   },
   "file_extension": ".py",
   "mimetype": "text/x-python",
   "name": "python",
   "nbconvert_exporter": "python",
   "pygments_lexer": "ipython3",
   "version": "3.8.5"
  }
 },
 "nbformat": 4,
 "nbformat_minor": 5
}
